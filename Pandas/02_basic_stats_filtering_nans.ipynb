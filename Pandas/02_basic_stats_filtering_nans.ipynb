{
 "cells": [
  {
   "cell_type": "code",
   "execution_count": null,
   "metadata": {
    "collapsed": true
   },
   "outputs": [],
   "source": [
    "import pandas as pd\n",
    "import matplotlib\n",
    "%matplotlib inline \n",
    "import numpy as np"
   ]
  },
  {
   "cell_type": "code",
   "execution_count": null,
   "metadata": {
    "collapsed": true
   },
   "outputs": [],
   "source": [
    "### Data transformation from previous notebooks\n",
    "nyc = pd.read_csv('data/central-park-raw.csv', parse_dates=[0])\n",
    "nyc.columns = [x.strip() for x in nyc.columns]\n",
    "nyc.columns = [x.replace(' ', '_') for x in nyc.columns]\n",
    "nyc.PrecipitationIn.replace(\"T\", '0.001')\n",
    "nyc.PrecipitationIn = pd.to_numeric(nyc.PrecipitationIn.replace(\"T\", '0.001'))\n",
    "nyc['Events'] = nyc.Events.fillna('')"
   ]
  },
  {
   "cell_type": "markdown",
   "metadata": {},
   "source": [
    "# Basic Stats\n",
    "\n",
    "A nice feature of pandas is that you can quickly inspect data and get summary statistics."
   ]
  },
  {
   "cell_type": "code",
   "execution_count": null,
   "metadata": {},
   "outputs": [],
   "source": [
    "# The describe method gives us basic stats. The result is a Data Frame\n",
    "nyc.describe()"
   ]
  },
  {
   "cell_type": "code",
   "execution_count": null,
   "metadata": {},
   "outputs": [],
   "source": [
    "# Remember transpose\n",
    "nyc.describe().T\n"
   ]
  },
  {
   "cell_type": "code",
   "execution_count": null,
   "metadata": {},
   "outputs": [],
   "source": [
    "# to view non-numeric data pass include='all'\n",
    "nyc.describe(include='all').T"
   ]
  },
  {
   "cell_type": "code",
   "execution_count": null,
   "metadata": {},
   "outputs": [],
   "source": [
    "# Various aggregation methods (max, mean, median, min, mad, skew, kurtosis, autocorr,\n",
    "#   nunique, sem, std, var)\n",
    "# and properties (hasnans, is_monotonic, is_unique)\n",
    "nyc.Max_Humidity.max()"
   ]
  },
  {
   "cell_type": "code",
   "execution_count": null,
   "metadata": {},
   "outputs": [],
   "source": [
    "nyc.Max_Humidity.quantile(.2)"
   ]
  },
  {
   "cell_type": "code",
   "execution_count": null,
   "metadata": {},
   "outputs": [],
   "source": [
    "nyc.Max_Humidity.quantile([.2,.3])"
   ]
  },
  {
   "cell_type": "code",
   "execution_count": null,
   "metadata": {},
   "outputs": [],
   "source": [
    "nyc.Max_Humidity.min()"
   ]
  },
  {
   "cell_type": "code",
   "execution_count": null,
   "metadata": {},
   "outputs": [],
   "source": [
    "nyc.Mean_Humidity.corr(nyc.Mean_TemperatureF)"
   ]
  },
  {
   "cell_type": "markdown",
   "metadata": {},
   "source": [
    "## Basic Stats Assignment\n",
    "With the nino dataset:\n",
    "\n",
    "* *Describe* the data\n",
    "* Choose a column\n",
    "  * Print out the max, min, and mean\n",
    "* Correlate (``corr``) the temperature column with the date column (might need to use ``.astype('int64')`` method)"
   ]
  },
  {
   "cell_type": "code",
   "execution_count": null,
   "metadata": {
    "collapsed": true
   },
   "outputs": [],
   "source": []
  },
  {
   "cell_type": "code",
   "execution_count": null,
   "metadata": {
    "collapsed": true
   },
   "outputs": [],
   "source": []
  },
  {
   "cell_type": "markdown",
   "metadata": {},
   "source": [
    "## Basic Stats Extra\n",
    "* use the ``scatter_matrix`` function in ``pandas.plotting`` to create a correlation matrix (note this might take tens of seconds to run)"
   ]
  },
  {
   "cell_type": "code",
   "execution_count": null,
   "metadata": {
    "scrolled": false
   },
   "outputs": [],
   "source": [
    "pd.plotting.scatter_matrix(nino)"
   ]
  },
  {
   "cell_type": "markdown",
   "metadata": {},
   "source": [
    "# Plotting\n",
    "\n",
    "Pandas has built-in integration with Matplotlib. Other libraries such as Seaborn also support plotting DataFrames and Series. This is not an in depth intro to Matplotlib, but their website and gallery are great for finding more information"
   ]
  },
  {
   "cell_type": "code",
   "execution_count": null,
   "metadata": {
    "scrolled": true
   },
   "outputs": [],
   "source": [
    "# histograms are a quick way to visualize the distribution\n",
    "nyc.Mean_Humidity.hist()"
   ]
  },
  {
   "cell_type": "code",
   "execution_count": null,
   "metadata": {
    "scrolled": false
   },
   "outputs": [],
   "source": [
    "# add in figsize=(width,height) to boost size\n",
    "nyc.Mean_Humidity.hist(figsize=(14, 10))"
   ]
  },
  {
   "cell_type": "code",
   "execution_count": null,
   "metadata": {
    "scrolled": false
   },
   "outputs": [],
   "source": [
    "# If we use the .plot method we can add title and other attributes\n",
    "nyc.Mean_Humidity.plot(kind='hist', title='Avg Humidity', figsize=(14, 10))"
   ]
  },
  {
   "cell_type": "code",
   "execution_count": null,
   "metadata": {
    "collapsed": true
   },
   "outputs": [],
   "source": []
  },
  {
   "cell_type": "code",
   "execution_count": null,
   "metadata": {},
   "outputs": [],
   "source": [
    "nyc.plot(x='EST', y='Mean_Humidity')"
   ]
  },
  {
   "cell_type": "code",
   "execution_count": null,
   "metadata": {},
   "outputs": [],
   "source": [
    "nyc.plot(x='EST', y='Mean_Humidity', figsize=(12, 8) )"
   ]
  },
  {
   "cell_type": "code",
   "execution_count": null,
   "metadata": {},
   "outputs": [],
   "source": [
    "# Can resample columns, since our index is a date we can use *Offset Aliases*\n",
    "# see http://pandas.pydata.org/pandas-docs/stable/timeseries.html#offset-aliases\n",
    "nyc.set_index('EST').Mean_Humidity.resample('M').mean().plot(figsize=(10, 6)) "
   ]
  },
  {
   "cell_type": "code",
   "execution_count": null,
   "metadata": {},
   "outputs": [],
   "source": [
    "# Can resample columns, since our index is a date we can use *Offset Aliases*\n",
    "# see http://pandas.pydata.org/pandas-docs/stable/timeseries.html#offset-aliases\n",
    "nyc.set_index('EST').Mean_Humidity.resample('2W').mean().plot(figsize=(10, 6)) "
   ]
  },
  {
   "cell_type": "code",
   "execution_count": null,
   "metadata": {},
   "outputs": [],
   "source": [
    "# Plot all the things (may be useful or just art)\n",
    "nyc.set_index('EST').plot(figsize=(12,8))"
   ]
  },
  {
   "cell_type": "code",
   "execution_count": null,
   "metadata": {},
   "outputs": [],
   "source": [
    "nyc.plot(x='Max_TemperatureF', y='Max_Humidity', kind='scatter', alpha=.5, \n",
    "        figsize=(10, 8))"
   ]
  },
  {
   "cell_type": "code",
   "execution_count": null,
   "metadata": {},
   "outputs": [],
   "source": [
    "nyc.Max_TemperatureF.corr(nyc.Max_Humidity)"
   ]
  },
  {
   "cell_type": "markdown",
   "metadata": {},
   "source": [
    "## Plotting Assignment\n",
    "With the nino dataset:\n",
    "* Plot a histogram of air temp\n",
    "* Plot a scatter plot of latitude and longitude\n"
   ]
  },
  {
   "cell_type": "code",
   "execution_count": null,
   "metadata": {
    "collapsed": true
   },
   "outputs": [],
   "source": []
  },
  {
   "cell_type": "code",
   "execution_count": null,
   "metadata": {
    "collapsed": true
   },
   "outputs": [],
   "source": []
  },
  {
   "cell_type": "code",
   "execution_count": null,
   "metadata": {
    "collapsed": true
   },
   "outputs": [],
   "source": []
  },
  {
   "cell_type": "markdown",
   "metadata": {},
   "source": [
    "# Filtering"
   ]
  },
  {
   "cell_type": "code",
   "execution_count": null,
   "metadata": {
    "collapsed": true
   },
   "outputs": [],
   "source": [
    "# When we apply a conditional operator to a series we get back a series of True/False values\n",
    "# We call this a \"mask\", which we can use to filter (similar to Photoshop)\n",
    "# all EST in 2000's\n",
    "m2000 = nyc.EST.dt.year >= 2000\n",
    "\n",
    "# below 2010\n",
    "lt2010 = nyc.EST.dt.year < 2010\n",
    "\n"
   ]
  },
  {
   "cell_type": "code",
   "execution_count": null,
   "metadata": {},
   "outputs": [],
   "source": [
    "# The \"and\" operation looks at whether the operands are truthy or falsey\n",
    "# This is a case where normal Python syntax doesn't work\n",
    "nyc[m2000 and lt2010]"
   ]
  },
  {
   "cell_type": "code",
   "execution_count": null,
   "metadata": {
    "scrolled": true
   },
   "outputs": [],
   "source": [
    "# & does bitwise comparisons - which is what we want\n",
    "nyc[m2000 & lt2010]"
   ]
  },
  {
   "cell_type": "code",
   "execution_count": null,
   "metadata": {},
   "outputs": [],
   "source": [
    "# beware if you embed the operations, the bitwise operator binds more tightly to the integers\n",
    "nyc[nyc.EST.dt.year >= 2000 & nyc.EST.dt.year < 2010]"
   ]
  },
  {
   "cell_type": "code",
   "execution_count": null,
   "metadata": {},
   "outputs": [],
   "source": [
    "# beware if you embed the operations, the bitwise operator binds more tightly to the integers\n",
    "nyc[(nyc.EST.dt.year >= 2000) & (nyc.EST.dt.year < 2010)]"
   ]
  },
  {
   "cell_type": "code",
   "execution_count": null,
   "metadata": {},
   "outputs": [],
   "source": [
    "m_dec = nyc.EST.dt.month == 12\n",
    "nyc[m_dec]"
   ]
  },
  {
   "cell_type": "code",
   "execution_count": null,
   "metadata": {},
   "outputs": [],
   "source": [
    "# Can use loc to filter out based on index value, also takes a boolean index\n",
    "# In fact, you should use .loc instead as a matter of habit (you won't see warnings)\n",
    "nyc.loc[m_dec]"
   ]
  },
  {
   "cell_type": "code",
   "execution_count": null,
   "metadata": {
    "scrolled": true
   },
   "outputs": [],
   "source": [
    "# Can use loc to filter out based on index value, also takes a boolean index\n",
    "# 2nd option in index op is column names (: to include everything)\n",
    "nyc.loc[m_dec, [x for x in nyc.columns if 'Max' in x]]"
   ]
  },
  {
   "cell_type": "code",
   "execution_count": null,
   "metadata": {},
   "outputs": [],
   "source": [
    "# loc note:\n",
    "# can use set_index and sort_index to do quick lookups (if you sort you get quick lookups)\n",
    "nyc.set_index('Events').sort_index().head()"
   ]
  },
  {
   "cell_type": "code",
   "execution_count": null,
   "metadata": {},
   "outputs": [],
   "source": [
    "nyc.set_index('Events').sort_index().loc['Fog']"
   ]
  },
  {
   "cell_type": "code",
   "execution_count": null,
   "metadata": {},
   "outputs": [],
   "source": [
    "# Can use iloc to filter out based on index location (or position)\n",
    "# 2nd option in index op is column indices\n",
    "nyc.iloc[5:10, [2, 5, -2]]  \n"
   ]
  },
  {
   "cell_type": "code",
   "execution_count": null,
   "metadata": {
    "scrolled": true
   },
   "outputs": [],
   "source": [
    "# Can use iloc to filter out based on index location\n",
    "# 2nd option in index op is column indices\n",
    "nyc.iloc[:, [2, 5, -2]]  \n"
   ]
  },
  {
   "cell_type": "code",
   "execution_count": null,
   "metadata": {},
   "outputs": [],
   "source": [
    "nyc.EST.describe()"
   ]
  },
  {
   "cell_type": "markdown",
   "metadata": {},
   "source": [
    "## Filtering Assignment\n",
    "Using the nino dataframe:\n",
    "* Create a mask, ``m80``, that all years >= 1980 and < 1990\n",
    "* Create a mask, ``m90``, that all years >= 1990 and < 2000\n",
    "* Create a mask, ``lon120``, that has all longitudes > 120\n",
    "* Create a mask, ``lat0``, that has latitudes > -2 and < 2\n",
    "* Create a dataframe, ``df80``, that has only those values in ``m80`` and ``lon120`` and ``lat0``\n",
    "* Create a dataframe, ``df90``, that has only those values in ``m90`` and ``lon120`` and ``lat0``\n"
   ]
  },
  {
   "cell_type": "code",
   "execution_count": null,
   "metadata": {
    "collapsed": true
   },
   "outputs": [],
   "source": []
  },
  {
   "cell_type": "code",
   "execution_count": null,
   "metadata": {
    "collapsed": true
   },
   "outputs": [],
   "source": []
  },
  {
   "cell_type": "markdown",
   "metadata": {},
   "source": [
    "## Filtering Bonus Assignment\n",
    "* Create a mask, ``m80_2``, that uses a function to filter years >= 1980 and < 1990\n",
    "* Make sure that ``m80`` is created using operations\n",
    "* Use the ``%%time`` *cell magic* to determine which is faster to calculate, ``m80`` or ``m80_2``"
   ]
  },
  {
   "cell_type": "code",
   "execution_count": null,
   "metadata": {
    "collapsed": true
   },
   "outputs": [],
   "source": []
  },
  {
   "cell_type": "code",
   "execution_count": null,
   "metadata": {
    "collapsed": true
   },
   "outputs": [],
   "source": []
  },
  {
   "cell_type": "markdown",
   "metadata": {},
   "source": [
    "# Dealing with NaN"
   ]
  },
  {
   "cell_type": "code",
   "execution_count": null,
   "metadata": {
    "scrolled": true
   },
   "outputs": [],
   "source": [
    "# find rows that have null data\n",
    "# fish create a mask\n",
    "nyc.isnull().any(axis=1)"
   ]
  },
  {
   "cell_type": "code",
   "execution_count": null,
   "metadata": {},
   "outputs": [],
   "source": [
    "nyc[nyc.isnull().any(axis=1)]"
   ]
  },
  {
   "cell_type": "code",
   "execution_count": null,
   "metadata": {
    "scrolled": true
   },
   "outputs": [],
   "source": [
    "# Find columns with null values\n",
    "nyc.isnull()"
   ]
  },
  {
   "cell_type": "code",
   "execution_count": null,
   "metadata": {},
   "outputs": [],
   "source": [
    "# Find columns with null values\n",
    "nyc.isnull().any()"
   ]
  },
  {
   "cell_type": "code",
   "execution_count": null,
   "metadata": {},
   "outputs": [],
   "source": [
    "missing_df = nyc.isnull() \n",
    "nyc[missing_df.Max_TemperatureF]"
   ]
  },
  {
   "cell_type": "code",
   "execution_count": null,
   "metadata": {},
   "outputs": [],
   "source": [
    "nyc.Max_TemperatureF.fillna(nyc.Max_TemperatureF.mean()).iloc[2219:2222]"
   ]
  },
  {
   "cell_type": "code",
   "execution_count": null,
   "metadata": {},
   "outputs": [],
   "source": [
    "# The .interpolate method will do linear interpolation by default\n",
    "nyc.Max_TemperatureF.interpolate().iloc[2219:2222]"
   ]
  },
  {
   "cell_type": "code",
   "execution_count": null,
   "metadata": {
    "scrolled": true
   },
   "outputs": [],
   "source": [
    "#dropping rows with missing data\n",
    "nyc.dropna()"
   ]
  },
  {
   "cell_type": "markdown",
   "metadata": {},
   "source": [
    "## Dealing with NaN Assignment\n",
    "With the nino dataset:\n",
    "* Find the rows that have null data\n",
    "* Find the columns that have null data\n",
    "* It looks like the ``zon_winds`` has some missing values, use summary stats or plotting to determine how to fill in those values"
   ]
  },
  {
   "cell_type": "code",
   "execution_count": null,
   "metadata": {
    "collapsed": true
   },
   "outputs": [],
   "source": []
  },
  {
   "cell_type": "code",
   "execution_count": null,
   "metadata": {
    "collapsed": true
   },
   "outputs": [],
   "source": []
  },
  {
   "cell_type": "code",
   "execution_count": null,
   "metadata": {
    "collapsed": true
   },
   "outputs": [],
   "source": []
  }
 ],
 "metadata": {
  "kernelspec": {
   "display_name": "Python 3",
   "language": "python",
   "name": "python3"
  },
  "language_info": {
   "codemirror_mode": {
    "name": "ipython",
    "version": 3
   },
   "file_extension": ".py",
   "mimetype": "text/x-python",
   "name": "python",
   "nbconvert_exporter": "python",
   "pygments_lexer": "ipython3",
   "version": "3.6.4"
  }
 },
 "nbformat": 4,
 "nbformat_minor": 2
}
