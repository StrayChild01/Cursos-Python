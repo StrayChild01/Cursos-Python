{
 "cells": [
  {
   "cell_type": "markdown",
   "metadata": {},
   "source": [
    "# Explore, Visualize, and Predict using Pandas & Jupyter\n",
    "\n",
    "### Learn to import, explore, and tweak your data\n",
    "\n",
    "Matt Harrison (@\\_\\_mharrison\\_\\_)\n",
    "\n",
    "The pandas library is very popular among data scientists, quants, Excel junkies, and Python developers because it allows you to perform data ingestion, exporting, transformation, and visualization with ease. But if you are only familiar with Python, pandas may present some challenges. Since pandas is inspired by Numpy, its syntax conventions can be confusing to Python developers.\n",
    "\n",
    "If you have questions on Python syntax, check out https://github.com/mattharrison/Tiny-Python-3.6-Notebook\n",
    "\n",
    "Much of this content is based on my Pandas book, [*Learning the Pandas Library*](https://www.amazon.com/Learning-Pandas-Library-Munging-Analysis/dp/153359824X/ref=sr_1_3?ie=UTF8&qid=1505448275&sr=8-3&keywords=python+pandas)"
   ]
  },
  {
   "cell_type": "code",
   "execution_count": null,
   "metadata": {
    "collapsed": true
   },
   "outputs": [],
   "source": []
  },
  {
   "cell_type": "markdown",
   "metadata": {},
   "source": [
    "# Jupyter Intro\n",
    "\n",
    "Jupyter notebook is an environment for combining interactive coding and text in a webbrowser. This allows us to easily share code as well as narrative around that code. An example that was popular in the scientific community was [the discovery of gravitational waves.](https://losc.ligo.org/s/events/GW150914/GW150914_tutorial.html)\n",
    "\n",
    "The name Jupyter is a rebranding of an open source project previously known as iPython Notebook. The rebranding was to emphasize that although the backend is written in Python, it supports various *kernals* to run other languages, including Julia (the \"Ju\" portion), Python (\"pyt\"), and R (\"er\"). All popular *data science* programming languages.\n",
    "\n",
    "The architecture of Jupyter includes a server running various kernals. Using a *notebook* we can interact with a kernal. Typically we use a webbrowser to do this, but there are other iterfaces, such as an emacs mode (ein).\n",
    "\n",
    "## Using Jupyter\n",
    "\n",
    "After we create a notebook, we are presented with a page with an empty cell. The cell will have a blue outline, ane the text:\n",
    "\n",
    "    In [ ]: \n",
    "    \n",
    "on the side. The blue outline indicates that we are in *command mode*. There are two modes in Jupyter, command mode and *edit mode*.\n",
    "\n",
    "To enter edit mode simply hit the enter or return key. You will notice that the outline will change to green. In edit mode, with a Python kernel, we can type Python code. Type:\n",
    "\n",
    "    print(\"hello world\")\n",
    "    \n",
    "You will notice that unlike a normal Python REPL, this will note print anything after hitting return again. To *execute* the cell, you need to hold down control and hit enter (``C-Enter``). This will run the code, print the results of the cell and put you back into edit mode.     \n",
    "\n",
    "## Edit Mode\n",
    "\n",
    "To enter *Edit Mode* you need to click on a cell or hit enter when it is surrounded by the blue outline. You will see that it goes green if you are in edit mode. In edit mode you have basic editing functionality. A few keys to know:\n",
    "\n",
    "* Ctr-Enter - Run cell (execute Python code, render Markdown)\n",
    "* ESC - Go back to command mode\n",
    "* TAB - Tab completion\n",
    "* Shift-TAB - Bring up tooltip (ESC to dismiss)\n",
    "\n",
    "\n",
    "## Command Mode\n",
    "\n",
    "*Command Mode* gives to the ability to create, copy, paste, move, and execute cells. A few keys to know:\n",
    "\n",
    "* h - Bring up help (ESC to dismiss)\n",
    "* b - Create cell below\n",
    "* a - Create cell above\n",
    "* c - Copy cell\n",
    "* v - Paste cell below\n",
    "* Enter - Go into Edit Mode\n",
    "* m - Change cell type to Markdown\n",
    "* y - Change cell type to code\n",
    "* ii - Interrupt kernel\n",
    "* oo - Restart kernel\n",
    "\n",
    "## Cell Types\n",
    "\n",
    "* Code\n",
    "* Markdown\n",
    "\n",
    "\n",
    "## Markdown\n",
    "\n",
    "Can make *italicized*, **bold**, and ``monospaced text``:\n",
    "\n",
    "    Can make *italicized*, **bold**, and ``monospaced text``\n",
    "\n",
    "\n",
    "Headers:\n",
    "\n",
    "    # H1\n",
    "    ## H2\n",
    "    ### H3\n",
    " \n",
    "Lists:\n",
    "\n",
    "    * First item\n",
    "    * Second item\n",
    "    \n",
    "Code:\n",
    "\n",
    "    If you indent by four spaces you have code:\n",
    "    \n",
    "        def add(x, y):\n",
    "            return x + yt\n",
    "    \n",
    "## Cell Magic\n",
    "\n",
    "type and run ``%lsmagic`` in a cell.\n",
    "\n",
    "Common magics include:\n",
    "\n",
    "* ``%%time`` - time how long it takes to run cell\n",
    "* ``%%!`` - run shell command\n",
    "* ``%matplotlib inline`` - show matplotlib plots\n",
    "\n",
    "\n",
    "## IPython Help\n",
    "Add ? after function, method, etc for documentation (can also run shift-tab 4 times in notebook). Add ?? after function, method, etc to see the source."
   ]
  },
  {
   "cell_type": "markdown",
   "metadata": {},
   "source": [
    "# Setup"
   ]
  },
  {
   "cell_type": "code",
   "execution_count": null,
   "metadata": {
    "collapsed": true
   },
   "outputs": [],
   "source": [
    "import pandas as pd\n",
    "import matplotlib\n",
    "import numpy as np\n",
    "\n",
    "pd.__version__, matplotlib.__version__, np.__version__"
   ]
  },
  {
   "cell_type": "code",
   "execution_count": null,
   "metadata": {
    "collapsed": true
   },
   "outputs": [],
   "source": [
    "# test for unicode\n",
    "'\\N{SNAKE}'"
   ]
  },
  {
   "cell_type": "code",
   "execution_count": null,
   "metadata": {
    "collapsed": true
   },
   "outputs": [],
   "source": [
    "import sys\n",
    "sys.getdefaultencoding() "
   ]
  },
  {
   "cell_type": "code",
   "execution_count": null,
   "metadata": {
    "collapsed": true
   },
   "outputs": [],
   "source": [
    "sys.version"
   ]
  },
  {
   "cell_type": "markdown",
   "metadata": {},
   "source": [
    "# Pandas Intro\n",
    "\n",
    "## Installation\n",
    "\n",
    "Presumably, you have pandas installed if you ran the cell after **Setup** successfully. The Anaconda distribution is a common way to get the Python scientific stack up and running quickly on most platforms. Running ``pip install pandas`` works as well."
   ]
  },
  {
   "cell_type": "code",
   "execution_count": null,
   "metadata": {
    "collapsed": true
   },
   "outputs": [],
   "source": [
    "# pandas has two main datatypes: a Series and a DataFrame\n",
    "# A Series is like a column from a spreadsheet\n",
    "\n",
    "s = pd.Series([0, 4, 6, 7])"
   ]
  },
  {
   "cell_type": "code",
   "execution_count": null,
   "metadata": {
    "collapsed": true
   },
   "outputs": [],
   "source": [
    "# A DataFrame is like a spreadsheet\n",
    "\n",
    "df = pd.DataFrame({'name': ['Fred', 'Johh', 'Joe', 'Abe'], 'age': s})"
   ]
  },
  {
   "cell_type": "code",
   "execution_count": null,
   "metadata": {
    "collapsed": true
   },
   "outputs": [],
   "source": [
    "# We can do tab completion on objects that exist (shift tab brings up tooltip)\n",
    "# ?? brings up source\n",
    "df."
   ]
  },
  {
   "cell_type": "markdown",
   "metadata": {},
   "source": [
    "# Datasets\n",
    "\n",
    "For this class we will look at some time series data. The class will look at Central Park weather. The assignments will deal with El Nino data.\n",
    "\n",
    "## Central Park\n",
    "\n",
    "\n",
    "https://pastebin.com/vaB6QQGp\n",
    "\n",
    "## El Nino\n",
    "\n",
    "https://archive.ics.uci.edu/ml/datasets/El+Nino"
   ]
  },
  {
   "cell_type": "code",
   "execution_count": null,
   "metadata": {
    "collapsed": true
   },
   "outputs": [],
   "source": [
    "%matplotlib inline\n",
    "# I typically start with imports like this including the matplotlib magic \n",
    "# for most notebooks\n",
    "import pandas as pd\n",
    "import numpy as np "
   ]
  },
  {
   "cell_type": "markdown",
   "metadata": {},
   "source": [
    "# Getting Data\n",
    "There are various ``pd.read_`` functions for ingesting data"
   ]
  },
  {
   "cell_type": "code",
   "execution_count": null,
   "metadata": {},
   "outputs": [],
   "source": [
    "# not necessary if you started jupyter from the project directory\n",
    "%ls data/\n",
    "# should have central-park-raw.csv"
   ]
  },
  {
   "cell_type": "code",
   "execution_count": null,
   "metadata": {
    "collapsed": true
   },
   "outputs": [],
   "source": [
    "# if you execute this cell it will bring up a tooltip due to\n",
    "# the ? at the end. You can also hit shift-tab 4 times\n",
    "# if your cursor is after the v\n",
    "# Hit escape to dismiss the tooltip\n",
    "pd.read_csv?"
   ]
  },
  {
   "cell_type": "code",
   "execution_count": null,
   "metadata": {
    "scrolled": true
   },
   "outputs": [],
   "source": [
    "# let's load the data and treat column 0 as a date\n",
    "nyc = pd.read_csv('data/central-park-raw.csv', parse_dates=[0])\n",
    "# Jupyter will print the result of the last command\n",
    "nyc"
   ]
  },
  {
   "cell_type": "code",
   "execution_count": null,
   "metadata": {},
   "outputs": [],
   "source": [
    "# dataframes can get big, so only show the first bit\n",
    "nyc.head()"
   ]
  },
  {
   "cell_type": "markdown",
   "metadata": {},
   "source": [
    "## Getting Data Assignment\n",
    "\n",
    "For your assignment, you will look at El Nino data.\n",
    "\n",
    "The [website](https://archive.ics.uci.edu/ml/datasets/El+Nino)  states:\n",
    "\n",
    "    The data is stored in an ASCII files with one observation per line. Spaces separate fields and periods (.) denote missing values.\n",
    "\n",
    "\n",
    "Load the ``data/tao-all2.dat.gz`` file into a data frame using ``pd.read_csv``.\n",
    "Use the ``names`` variable for the initial column names (taken from website).\n",
    "Replace empty values (``.``) with ``NaN``. Pull the year, month, and date columns into a single variable using the ``parse_dates`` parameter (see the ``pd.read_csv`` docs for info on this)."
   ]
  },
  {
   "cell_type": "code",
   "execution_count": null,
   "metadata": {
    "collapsed": true
   },
   "outputs": [],
   "source": []
  },
  {
   "cell_type": "code",
   "execution_count": null,
   "metadata": {
    "collapsed": true
   },
   "outputs": [],
   "source": []
  },
  {
   "cell_type": "markdown",
   "metadata": {},
   "source": [
    "# Inspecting Data"
   ]
  },
  {
   "cell_type": "code",
   "execution_count": null,
   "metadata": {},
   "outputs": [],
   "source": [
    "# Interesting aside, the columns are actually an Index \n",
    "nyc.columns"
   ]
  },
  {
   "cell_type": "code",
   "execution_count": null,
   "metadata": {},
   "outputs": [],
   "source": [
    "# If is good to know if columns have a [correct] type, (object could mean string)\n",
    "nyc.dtypes"
   ]
  },
  {
   "cell_type": "code",
   "execution_count": null,
   "metadata": {},
   "outputs": [],
   "source": [
    "# we can also see how much space is taken up\n",
    "nyc.info()"
   ]
  },
  {
   "cell_type": "code",
   "execution_count": null,
   "metadata": {
    "scrolled": true
   },
   "outputs": [],
   "source": [
    "# just view the first 10 rows\n",
    "nyc.head(10)"
   ]
  },
  {
   "cell_type": "code",
   "execution_count": null,
   "metadata": {},
   "outputs": [],
   "source": [
    "# Transposing the data often makes it easier to view\n",
    "nyc.T  # nyc.transpose()"
   ]
  },
  {
   "cell_type": "code",
   "execution_count": null,
   "metadata": {},
   "outputs": [],
   "source": [
    "# Here is the size (num rows, num cols)\n",
    "nyc.shape"
   ]
  },
  {
   "cell_type": "code",
   "execution_count": null,
   "metadata": {},
   "outputs": [],
   "source": [
    "# We can inspect the index\n",
    "nyc.index"
   ]
  },
  {
   "cell_type": "code",
   "execution_count": null,
   "metadata": {},
   "outputs": [],
   "source": [
    "# We can use the .set_index method to use another column as the index\n",
    "nyc.set_index('EST')"
   ]
  },
  {
   "cell_type": "code",
   "execution_count": null,
   "metadata": {},
   "outputs": [],
   "source": [
    "# undo .set_index with .reset_index\n",
    "nyc.set_index('EST').reset_index()"
   ]
  },
  {
   "cell_type": "markdown",
   "metadata": {},
   "source": [
    "## Inspecting Data Assignment\n",
    "\n",
    "Now it is your turn to inspect the El Nino data.\n",
    " \n",
    "* What are the columns of the dataframe?\n",
    "* What are the types of the columns?\n",
    "* How would you print the first 10 rows of data?\n",
    "* How would you transpose the data?\n",
    "* What is the shape of the data?\n",
    "* How would we inspect the index?"
   ]
  },
  {
   "cell_type": "code",
   "execution_count": null,
   "metadata": {
    "collapsed": true
   },
   "outputs": [],
   "source": []
  },
  {
   "cell_type": "code",
   "execution_count": null,
   "metadata": {
    "collapsed": true
   },
   "outputs": [],
   "source": []
  },
  {
   "cell_type": "markdown",
   "metadata": {},
   "source": [
    "# Tweak Data\n",
    "\n",
    "  *In Data Science, 80% of time spent prepare data, 20% of time spent complain about need for  prepare data.*\n",
    "  \n",
    "  -@bigdataborat\n",
    "  \n",
    "Let's see how we spend 80% of our time.  \n"
   ]
  },
  {
   "cell_type": "code",
   "execution_count": null,
   "metadata": {},
   "outputs": [],
   "source": [
    "# I like to start by inspecting the columns. Pandas will try to \n",
    "# infer types from CSV files, but doesn't always do the right thing.\n",
    "# Sometimes the data is just messy.\n",
    "nyc.dtypes"
   ]
  },
  {
   "cell_type": "code",
   "execution_count": null,
   "metadata": {
    "collapsed": true
   },
   "outputs": [],
   "source": [
    "# See those spaces in front of some of the Columns?\n",
    "# Remove spaces from front/end of column names\n",
    "nyc.columns = [x.strip() for x in nyc.columns]"
   ]
  },
  {
   "cell_type": "code",
   "execution_count": null,
   "metadata": {
    "collapsed": true
   },
   "outputs": [],
   "source": [
    "# Use underscores to enable attribute access/jupyter completion\n",
    "nyc.columns = [x.replace(' ', '_') for x in nyc.columns]"
   ]
  },
  {
   "cell_type": "code",
   "execution_count": null,
   "metadata": {
    "scrolled": true
   },
   "outputs": [],
   "source": [
    "# For non-numeric columns, .value_counts gives us \n",
    "# counts of the data. One would think that \n",
    "# PrecipitationIn should be numeric....\n",
    "nyc.PrecipitationIn.value_counts()"
   ]
  },
  {
   "cell_type": "code",
   "execution_count": null,
   "metadata": {
    "collapsed": true
   },
   "outputs": [],
   "source": [
    "# There is a \"T\" in there. Trace? \n",
    "# Convert \"T\" to 0.001\n",
    "nyc.PrecipitationIn.replace(\"T\", '0.001')\n",
    "# Convert to numeric data\n",
    "nyc.PrecipitationIn = pd.to_numeric(nyc.PrecipitationIn.replace(\"T\", '0.001'))"
   ]
  },
  {
   "cell_type": "code",
   "execution_count": null,
   "metadata": {},
   "outputs": [],
   "source": [
    "nyc.Events.value_counts()"
   ]
  },
  {
   "cell_type": "code",
   "execution_count": null,
   "metadata": {
    "scrolled": true
   },
   "outputs": [],
   "source": [
    "# can perform string operations on string columns off of the \"str\" attribute\n",
    "nyc.Events.str.upper()"
   ]
  },
  {
   "cell_type": "code",
   "execution_count": null,
   "metadata": {},
   "outputs": [],
   "source": [
    "# Looks like the type of this column is mixed\n",
    "type(nyc.Events[0])"
   ]
  },
  {
   "cell_type": "code",
   "execution_count": null,
   "metadata": {},
   "outputs": [],
   "source": [
    "set(nyc.Events.apply(type))"
   ]
  },
  {
   "cell_type": "code",
   "execution_count": null,
   "metadata": {
    "collapsed": true
   },
   "outputs": [],
   "source": [
    "# Replace nan with ''\n",
    "nyc['Events'] = nyc.Events.fillna('')"
   ]
  },
  {
   "cell_type": "code",
   "execution_count": null,
   "metadata": {},
   "outputs": [],
   "source": [
    "set(nyc.Events.apply(type))"
   ]
  },
  {
   "cell_type": "code",
   "execution_count": null,
   "metadata": {
    "scrolled": true
   },
   "outputs": [],
   "source": [
    "# convert inches to cm\n",
    "# If we multiply a column (Series), we are *broadcasting*\n",
    "# the operation to every cell\n",
    "nyc.PrecipitationIn * 2.54"
   ]
  },
  {
   "cell_type": "code",
   "execution_count": null,
   "metadata": {
    "scrolled": true
   },
   "outputs": [],
   "source": [
    "# can also apply an arbitrary function, though this will be slow as it is not vectorized\n",
    "#   map - works with a dictionary (mapping value to new value),  series (like dict), function\n",
    "#   apply - only works with function as a parameter. Allows extra parameters\n",
    "#   aggregate (agg) - works with function or list of functions. If reducing function, returns a scalar.\n",
    "#   transform - wraps agg and won't do a reduction\n",
    "def to_cm(val):\n",
    "    return val * 2.54\n",
    "\n",
    "nyc.PrecipitationIn.transform(to_cm)"
   ]
  },
  {
   "cell_type": "code",
   "execution_count": null,
   "metadata": {},
   "outputs": [],
   "source": [
    "%%timeit\n",
    "nyc.PrecipitationIn.map(to_cm)"
   ]
  },
  {
   "cell_type": "code",
   "execution_count": null,
   "metadata": {},
   "outputs": [],
   "source": [
    "%%timeit\n",
    "nyc.PrecipitationIn.transform(to_cm)"
   ]
  },
  {
   "cell_type": "code",
   "execution_count": null,
   "metadata": {},
   "outputs": [],
   "source": [
    "%%timeit\n",
    "nyc.PrecipitationIn*2.54"
   ]
  },
  {
   "cell_type": "code",
   "execution_count": null,
   "metadata": {},
   "outputs": [],
   "source": [
    "# can add and drop columns (axis=1 means along the columns axis)\n",
    "# Note that we can access some columns with attribute access\n",
    "# We can only set w/ attribute access on an existing column!\n",
    "nyc['State'] = 'NYC'\n",
    "nyc = nyc.drop(['State'], axis=1)\n",
    "nyc"
   ]
  },
  {
   "cell_type": "code",
   "execution_count": null,
   "metadata": {},
   "outputs": [],
   "source": [
    "# can use pd.to_datetime to convert a column to a datetime\n",
    "date_str = nyc.EST.astype(str)\n",
    "pd.to_datetime(date_str)"
   ]
  },
  {
   "cell_type": "markdown",
   "metadata": {},
   "source": [
    "## Tweak Data Assignment\n",
    "With the nino dataset:\n",
    "* Replace the periods and spaces in the column names with underscores\n",
    "* The temperatures are stored as Celsius. Create a new column, ``air_temp_F``, using Fahrenheit\n",
    "  (Tf = Tc*9/5 + 32)\n",
    "* The wind speed is in meters per second. Create new columns,  adding ``_mph``, that uses miles per hour ( 1 MPS = 2.237 MPH )\n",
    "* Convert the ``date`` column to a date type.\n",
    "* Drop the obs column"
   ]
  },
  {
   "cell_type": "code",
   "execution_count": null,
   "metadata": {
    "collapsed": true
   },
   "outputs": [],
   "source": []
  },
  {
   "cell_type": "code",
   "execution_count": null,
   "metadata": {
    "collapsed": true
   },
   "outputs": [],
   "source": []
  }
 ],
 "metadata": {
  "kernelspec": {
   "display_name": "Python 3",
   "language": "python",
   "name": "python3"
  },
  "language_info": {
   "codemirror_mode": {
    "name": "ipython",
    "version": 3
   },
   "file_extension": ".py",
   "mimetype": "text/x-python",
   "name": "python",
   "nbconvert_exporter": "python",
   "pygments_lexer": "ipython3",
   "version": "3.6.4"
  }
 },
 "nbformat": 4,
 "nbformat_minor": 2
}
