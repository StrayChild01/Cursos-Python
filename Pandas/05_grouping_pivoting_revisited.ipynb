{
 "cells": [
  {
   "cell_type": "code",
   "execution_count": null,
   "metadata": {
    "collapsed": true
   },
   "outputs": [],
   "source": [
    "import pandas as pd\n",
    "import matplotlib\n",
    "%matplotlib inline \n",
    "import numpy as np"
   ]
  },
  {
   "cell_type": "markdown",
   "metadata": {},
   "source": [
    "# More Stacking"
   ]
  },
  {
   "cell_type": "code",
   "execution_count": null,
   "metadata": {
    "collapsed": true
   },
   "outputs": [],
   "source": [
    "# We briefly talked about stacking in the pivot section, here we will\n",
    "# dive in a little more.\n",
    "# Vehicle data - https://www.fueleconomy.gov/feg/download.shtml\n",
    "# Datasets for All Model Years (1984–2018)\n",
    "auto = pd.read_csv('data/vehicles.csv.zip')"
   ]
  },
  {
   "cell_type": "code",
   "execution_count": null,
   "metadata": {
    "collapsed": true,
    "scrolled": false
   },
   "outputs": [],
   "source": [
    "auto.head()"
   ]
  },
  {
   "cell_type": "code",
   "execution_count": null,
   "metadata": {
    "collapsed": true,
    "scrolled": false
   },
   "outputs": [],
   "source": [
    "auto.head().T"
   ]
  },
  {
   "cell_type": "code",
   "execution_count": null,
   "metadata": {
    "collapsed": true
   },
   "outputs": [],
   "source": [
    "auto.columns"
   ]
  },
  {
   "cell_type": "code",
   "execution_count": null,
   "metadata": {
    "collapsed": true,
    "scrolled": true
   },
   "outputs": [],
   "source": [
    "auto.dtypes"
   ]
  },
  {
   "cell_type": "code",
   "execution_count": null,
   "metadata": {
    "collapsed": true
   },
   "outputs": [],
   "source": [
    "# guzzler- if G or T, this vehicle is subject to the gas guzzler tax\n",
    "auto.guzzler.value_counts()"
   ]
  },
  {
   "cell_type": "code",
   "execution_count": null,
   "metadata": {
    "collapsed": true,
    "scrolled": true
   },
   "outputs": [],
   "source": [
    "auto.groupby('make').size()"
   ]
  },
  {
   "cell_type": "code",
   "execution_count": null,
   "metadata": {
    "collapsed": true,
    "scrolled": true
   },
   "outputs": [],
   "source": [
    "auto.groupby(['year', 'make']).size()"
   ]
  },
  {
   "cell_type": "code",
   "execution_count": null,
   "metadata": {
    "collapsed": true,
    "scrolled": true
   },
   "outputs": [],
   "source": [
    "auto.groupby(['year', 'make']).size().unstack(1)"
   ]
  },
  {
   "cell_type": "code",
   "execution_count": null,
   "metadata": {
    "collapsed": true,
    "scrolled": true
   },
   "outputs": [],
   "source": [
    "# .stack undoes .unstack\n",
    "auto.groupby(['year', 'make']).size().unstack(1).stack()"
   ]
  },
  {
   "cell_type": "code",
   "execution_count": null,
   "metadata": {
    "collapsed": true,
    "scrolled": true
   },
   "outputs": [],
   "source": [
    "# By default .unstack does innermost level (in this case 1)\n",
    "auto.groupby(['year', 'make']).size().unstack(0)"
   ]
  },
  {
   "cell_type": "code",
   "execution_count": null,
   "metadata": {
    "collapsed": true,
    "scrolled": true
   },
   "outputs": [],
   "source": [
    "# If index has name we can use that\n",
    "auto.groupby(['year', 'make']).size().unstack('make')"
   ]
  },
  {
   "cell_type": "code",
   "execution_count": null,
   "metadata": {
    "collapsed": true,
    "scrolled": true
   },
   "outputs": [],
   "source": [
    "# If index has name we can use that\n",
    "auto.groupby(['year', 'make']).size().unstack('year')"
   ]
  },
  {
   "cell_type": "code",
   "execution_count": null,
   "metadata": {
    "collapsed": true
   },
   "outputs": [],
   "source": [
    "# get Ford through Lexus\n",
    "auto.groupby(['year', 'make']).size().unstack().loc[:,'Ford':'Lexus'].\\\n",
    "plot(figsize=(14,10)) "
   ]
  },
  {
   "cell_type": "code",
   "execution_count": null,
   "metadata": {
    "collapsed": true
   },
   "outputs": [],
   "source": [
    "# Wrap with parens to allow per line \"flow\" style\n",
    "(\n",
    "auto.groupby(['year', 'make'])\n",
    "    .size()\n",
    "    .unstack('make')\n",
    "    .loc[:,'Ford':'Lexus']\n",
    "    .plot(figsize=(14,10)) \n",
    ")"
   ]
  },
  {
   "cell_type": "code",
   "execution_count": null,
   "metadata": {
    "collapsed": true
   },
   "outputs": [],
   "source": [
    "# Just look at Ford, Lexus, & Toyota\n",
    "auto.groupby(['year', 'make']).size().unstack('make').loc[:,['Ford', 'Lexus', 'Toyota']].\\\n",
    "plot(kind='bar', figsize=(14,10)) "
   ]
  },
  {
   "cell_type": "code",
   "execution_count": null,
   "metadata": {
    "collapsed": true
   },
   "outputs": [],
   "source": [
    "# get the average gas mileage per year\n",
    "auto.groupby(['year', 'make'])['city08'].mean().unstack('make').\\\n",
    "loc[:,['Ford', 'BMW', 'Toyota', 'Honda']].\\\n",
    "plot(figsize=(14,10)) "
   ]
  },
  {
   "cell_type": "code",
   "execution_count": null,
   "metadata": {
    "collapsed": true
   },
   "outputs": [],
   "source": [
    "# Get the 70% quantile for each mfr\n",
    "auto.groupby(['year', 'make'])['city08'].quantile(.7).unstack('make').\\\n",
    "loc[:,['Ford', 'BMW', 'Toyota', 'Honda']].\\\n",
    "plot(subplots=True, sort_columns=True, figsize=(14,10)) "
   ]
  },
  {
   "cell_type": "code",
   "execution_count": null,
   "metadata": {
    "collapsed": true
   },
   "outputs": [],
   "source": [
    "# Add the drive\n",
    "(\n",
    "auto.groupby(['year', 'make', 'drive'])['city08'].mean()\n",
    ")"
   ]
  },
  {
   "cell_type": "code",
   "execution_count": null,
   "metadata": {
    "collapsed": true
   },
   "outputs": [],
   "source": [
    "# Can unstack multiple times\n",
    "(\n",
    "auto.groupby(['year', 'make', 'drive'])['city08'].mean()\n",
    "    .unstack('drive').unstack('make')\n",
    ")"
   ]
  },
  {
   "cell_type": "code",
   "execution_count": null,
   "metadata": {
    "collapsed": true,
    "scrolled": false
   },
   "outputs": [],
   "source": [
    "# Can unstack multiple times\n",
    "(\n",
    "auto.groupby(['year', 'make', 'drive'])['city08'].mean()\n",
    "    .loc[(slice(None), # all years\n",
    "          \"Ford\",    # Ford rows\n",
    "          [\"Rear-Wheel Drive\"])]\n",
    "    .unstack('drive').unstack('year')\n",
    ")"
   ]
  },
  {
   "cell_type": "code",
   "execution_count": null,
   "metadata": {
    "collapsed": true,
    "scrolled": false
   },
   "outputs": [],
   "source": [
    "# Can unstack multiple times\n",
    "(\n",
    "auto.groupby(['year', 'make', 'drive'])['city08'].mean()\n",
    "    .loc[(slice(None), # all years\n",
    "          \"Ford\",    # Ford rows\n",
    "          [\"Rear-Wheel Drive\"])]  # if we don't make a list here the index won't have drive\n",
    "    .unstack('drive').unstack('year')\n",
    ")"
   ]
  },
  {
   "cell_type": "code",
   "execution_count": null,
   "metadata": {
    "collapsed": true,
    "scrolled": false
   },
   "outputs": [],
   "source": [
    "# Simpler may be better\n",
    "(\n",
    "auto.groupby(['year', 'make', 'drive'])['city08'].mean()\n",
    "    .loc[(slice(None), # all years\n",
    "          \"Ford\",    # Ford rows\n",
    "          \"Rear-Wheel Drive\")]\n",
    "    .plot(figsize=(14,10))\n",
    ")"
   ]
  },
  {
   "cell_type": "markdown",
   "metadata": {},
   "source": [
    "## Stacking Assignment\n",
    "\n",
    "* For each Escape (model) in Ford (make) show the by year avg mpg (city08) in tabular form.\n",
    "* Visualize the result"
   ]
  },
  {
   "cell_type": "code",
   "execution_count": null,
   "metadata": {
    "collapsed": true
   },
   "outputs": [],
   "source": []
  },
  {
   "cell_type": "code",
   "execution_count": null,
   "metadata": {
    "collapsed": true
   },
   "outputs": [],
   "source": []
  },
  {
   "cell_type": "code",
   "execution_count": null,
   "metadata": {
    "collapsed": true
   },
   "outputs": [],
   "source": []
  },
  {
   "cell_type": "code",
   "execution_count": null,
   "metadata": {
    "collapsed": true
   },
   "outputs": [],
   "source": []
  },
  {
   "cell_type": "markdown",
   "metadata": {},
   "source": [
    "## Extra Groupby"
   ]
  },
  {
   "cell_type": "code",
   "execution_count": null,
   "metadata": {
    "collapsed": true
   },
   "outputs": [],
   "source": [
    "# Find best mpg for each year/make\n",
    "auto.loc[auto.groupby(['year', 'make']).city08.idxmax()][['year', 'make', 'model', 'city08']]"
   ]
  },
  {
   "cell_type": "code",
   "execution_count": null,
   "metadata": {
    "collapsed": true
   },
   "outputs": [],
   "source": [
    "# only show ford\n",
    "res = auto.loc[auto.groupby(['year', 'make']).city08.idxmax()][['year', 'make', 'model', 'city08']]\n",
    "res[res.make.isin(['Ford'])]"
   ]
  }
 ],
 "metadata": {
  "kernelspec": {
   "display_name": "Python 3",
   "language": "python",
   "name": "python3"
  },
  "language_info": {
   "codemirror_mode": {
    "name": "ipython",
    "version": 3
   },
   "file_extension": ".py",
   "mimetype": "text/x-python",
   "name": "python",
   "nbconvert_exporter": "python",
   "pygments_lexer": "ipython3",
   "version": "3.6.2"
  }
 },
 "nbformat": 4,
 "nbformat_minor": 2
}
