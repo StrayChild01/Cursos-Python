{
 "cells": [
  {
   "cell_type": "markdown",
   "metadata": {},
   "source": [
    "# Clustering\n",
    "This is an *unsupervised method*. You tell the computer to create groups without giving it labels. Useful in recommendation systems, cohort grouping, determining supervised learning labels and features."
   ]
  },
  {
   "cell_type": "code",
   "execution_count": null,
   "metadata": {},
   "outputs": [],
   "source": [
    "%matplotlib inline\n",
    "import matplotlib.cm as cm\n",
    "import matplotlib.pyplot as plt\n",
    "import numpy as np\n",
    "import pandas as pd\n",
    "from scipy.cluster import hierarchy\n",
    "from sklearn import cluster, datasets, metrics\n",
    "from yellowbrick.cluster.elbow import KElbowVisualizer\n",
    "from yellowbrick.cluster.silhouette import SilhouetteVisualizer"
   ]
  },
  {
   "cell_type": "markdown",
   "metadata": {},
   "source": [
    "## K-Means Clustering\n",
    "\n",
    "Process:\n",
    "\n",
    "* Choose number of clusters (K)\n",
    "* Randomly assign K observations as the *centroids*\n",
    "* For remaining observations, determine which centroid it is closest to\n",
    "* Determine new centroid for each cluster\n",
    "* Reassign if necessary/repeat X times"
   ]
  },
  {
   "cell_type": "code",
   "execution_count": null,
   "metadata": {},
   "outputs": [],
   "source": [
    "iris = datasets.load_iris()\n",
    "print(iris.DESCR)"
   ]
  },
  {
   "cell_type": "code",
   "execution_count": null,
   "metadata": {},
   "outputs": [],
   "source": [
    "dir(iris)"
   ]
  },
  {
   "cell_type": "code",
   "execution_count": null,
   "metadata": {},
   "outputs": [],
   "source": [
    "iris.target_names"
   ]
  },
  {
   "cell_type": "code",
   "execution_count": null,
   "metadata": {},
   "outputs": [],
   "source": [
    "target = pd.Series(iris.target)\n",
    "iris_df = pd.DataFrame(iris.data, columns=iris.feature_names)\n",
    "iris_df['target'] = target\n",
    "X = iris_df"
   ]
  },
  {
   "cell_type": "code",
   "execution_count": null,
   "metadata": {
    "scrolled": true
   },
   "outputs": [],
   "source": [
    "iris_df"
   ]
  },
  {
   "cell_type": "code",
   "execution_count": null,
   "metadata": {
    "scrolled": true
   },
   "outputs": [],
   "source": [
    "#Actuals\n",
    "X.plot(kind='scatter', x='sepal length (cm)', y='sepal width (cm)',\n",
    "          c=target, cmap='plasma')"
   ]
  },
  {
   "cell_type": "code",
   "execution_count": null,
   "metadata": {
    "scrolled": false
   },
   "outputs": [],
   "source": [
    "# Plot 3 iterations\n",
    "axs = []\n",
    "X_2d = X[['sepal length (cm)', 'sepal width (cm)']]\n",
    "for i in [1, 3, 10, 100]:\n",
    "    # using default init (k-means++) gives better starting points\n",
    "    k = cluster.KMeans(n_clusters=3, max_iter=i, n_init=1, init='random', \n",
    "                       random_state=420)\n",
    "    pred = k.fit_predict(X_2d)\n",
    "    axs.append(X.plot(title=f'iter {i}', kind='scatter', \n",
    "                      x='sepal length (cm)',\n",
    "                      y='sepal width (cm)',\n",
    "                      c=pred, cmap='plasma'))\n",
    "    centroids = k.cluster_centers_\n",
    "    axs.append(plt.scatter(centroids[:, 0], centroids[:, 1],\n",
    "                marker='x', s=169, linewidths=3,\n",
    "                color='r', zorder=10))"
   ]
  },
  {
   "cell_type": "markdown",
   "metadata": {},
   "source": [
    "## Exercise: Run K-Means\n",
    "\n",
    "The (wheat) seed dataset has a feature engineered column, compactness\n",
    "\\begin{align}\n",
    "C=4*pi*area/perimeter^2\n",
    "\\end{align}\n",
    "\n",
    "* Run K-means with 3 clusters on this data set. (Ignore variety)\n",
    "* Scatter plot the result.\n",
    "\n",
    "The file is at ``../data/seeds_dataset.txt``\n",
    "\n",
    "Use the ``sep`` parameter and split on whitespace (might need a regex)!\n",
    "\n",
    "\n",
    "It has the following fields:\n",
    "\n",
    "1. area A, \n",
    "2. perimeter P, \n",
    "3. compactness C = 4*pi*A/P^2, \n",
    "4. length of kernel, \n",
    "5. width of kernel, \n",
    "6. asymmetry coefficient \n",
    "7. length of kernel groove. \n",
    "8. variety (Kama, Rosa, Canadian)\n",
    "\n",
    "https://archive.ics.uci.edu/ml/datasets/seeds\n"
   ]
  },
  {
   "cell_type": "code",
   "execution_count": null,
   "metadata": {},
   "outputs": [],
   "source": []
  },
  {
   "cell_type": "code",
   "execution_count": null,
   "metadata": {},
   "outputs": [],
   "source": []
  },
  {
   "cell_type": "code",
   "execution_count": null,
   "metadata": {},
   "outputs": [],
   "source": []
  },
  {
   "cell_type": "code",
   "execution_count": null,
   "metadata": {},
   "outputs": [],
   "source": []
  },
  {
   "cell_type": "markdown",
   "metadata": {},
   "source": [
    "## How Many Clusters?\n",
    "We can calculate the *WCSS*, within cluster sum of squares, for a variety of K sizes. This value starts off large. As K approaches the number of observations, this value goes to 0.\n",
    "At some point there might be an \"elbow\". Around that elbow can be minimum number of clusters."
   ]
  },
  {
   "cell_type": "code",
   "execution_count": null,
   "metadata": {},
   "outputs": [],
   "source": [
    "def plot_elbow(data, k_candidates, fig_opts=None):\n",
    "    inertias = []\n",
    "    for k in k_candidates:\n",
    "        kmeans = cluster.KMeans(n_clusters=k, random_state=42)\n",
    "        kmeans.fit(X)\n",
    "        inertias.append(kmeans.inertia_)\n",
    "    fig_opts = fig_opts or {}\n",
    "    fig = plt.figure(**fig_opts)\n",
    "    plt.plot(k_candidates, inertias)\n",
    "    plt.title('Elbow Plot')\n",
    "plot_elbow(X, range(2, 20))"
   ]
  },
  {
   "cell_type": "code",
   "execution_count": null,
   "metadata": {},
   "outputs": [],
   "source": [
    "cluster.KMeans"
   ]
  },
  {
   "cell_type": "code",
   "execution_count": null,
   "metadata": {},
   "outputs": [],
   "source": [
    "viz = KElbowVisualizer(cluster.KMeans(random_state=42), k=(2,20), metric='silhouette')\n",
    "viz.fit(X)\n",
    "viz.poof()"
   ]
  },
  {
   "cell_type": "code",
   "execution_count": null,
   "metadata": {},
   "outputs": [],
   "source": [
    "# Create 5 clusters - using all dimensions\n",
    "# Plot those results into 2 dimensions (sepal length/width)\n",
    "k = cluster.KMeans(n_clusters=5, random_state=50)\n",
    "pred = k.fit_predict(X)\n",
    "X.plot(title=f'iter {i}', kind='scatter', x='sepal length (cm)',\n",
    "       y='sepal width (cm)',\n",
    "      c=pred, cmap='plasma')\n",
    "centroids = k.cluster_centers_\n",
    "plt.scatter(centroids[:, 0], centroids[:, 1],\n",
    "            marker='x', s=169, linewidths=3,\n",
    "            color='r', zorder=10)"
   ]
  },
  {
   "cell_type": "markdown",
   "metadata": {},
   "source": [
    "## Exercise: Elbow Curve\n",
    "* Run an elbow curve on the seed data. Is there an elbow?"
   ]
  },
  {
   "cell_type": "code",
   "execution_count": null,
   "metadata": {},
   "outputs": [],
   "source": []
  },
  {
   "cell_type": "code",
   "execution_count": null,
   "metadata": {},
   "outputs": [],
   "source": []
  },
  {
   "cell_type": "code",
   "execution_count": null,
   "metadata": {},
   "outputs": [],
   "source": []
  },
  {
   "cell_type": "code",
   "execution_count": null,
   "metadata": {},
   "outputs": [],
   "source": []
  },
  {
   "cell_type": "code",
   "execution_count": null,
   "metadata": {},
   "outputs": [],
   "source": []
  },
  {
   "cell_type": "markdown",
   "metadata": {},
   "source": [
    "## Cluster size with Silhouette Analysis\n",
    "\n",
    "http://scikit-learn.org/stable/auto_examples/cluster/plot_kmeans_silhouette_analysis.html\n",
    "\n",
    "Computes the score for each cluster. Score is the normalized difference between the intra-cluster distance and nearest cluster. -1 means bad cluster, 1 means perfect clustering.\n",
    "\n",
    "The red line is the average silhouette score. Clusters failing below the average may indicate poor clustering."
   ]
  },
  {
   "cell_type": "code",
   "execution_count": null,
   "metadata": {
    "scrolled": false
   },
   "outputs": [],
   "source": [
    "for i in range(2, 10):\n",
    "    sviz = SilhouetteVisualizer(cluster.KMeans(\n",
    "        n_clusters=i, random_state=42))\n",
    "    sviz.fit(X)\n",
    "    sviz.poof()"
   ]
  },
  {
   "cell_type": "markdown",
   "metadata": {},
   "source": [
    "## Exercise: Silhouette Anaylsis\n",
    "\n",
    "* Run Silhouette Analysis on the seed data"
   ]
  },
  {
   "cell_type": "code",
   "execution_count": null,
   "metadata": {},
   "outputs": [],
   "source": []
  },
  {
   "cell_type": "code",
   "execution_count": null,
   "metadata": {},
   "outputs": [],
   "source": []
  },
  {
   "cell_type": "code",
   "execution_count": null,
   "metadata": {},
   "outputs": [],
   "source": []
  },
  {
   "cell_type": "code",
   "execution_count": null,
   "metadata": {},
   "outputs": [],
   "source": []
  },
  {
   "cell_type": "markdown",
   "metadata": {},
   "source": [
    "## Hierarchical Clustering\n",
    "(Two types, *Agglomerative* and *Divisive*). Going to look at agglomerative, which treats each observation as its own cluster. Using some metric, join the closest pairs. Repeat until one cluster. Can be slow! \\begin{align}\n",
    "O(n^3)\n",
    "\\end{align}\n",
    "\n",
    "Tracks creation in a *dendrogram*. The left side of the dendrogram shows the distance. The taller the line, the less similar the clusters are (*dissimilarity*). One method for determining number cluster is to assume horizontal lines go out and make a horizontal cutoff below the tallest line. The number of lines it intersects is the number of clusters.\n"
   ]
  },
  {
   "cell_type": "code",
   "execution_count": null,
   "metadata": {},
   "outputs": [],
   "source": [
    "# ward clustering minimizes the sum of the squares in the clusters (like k-means)\n",
    "\n",
    "dend = hierarchy.dendrogram(hierarchy.linkage(X, method='ward'))"
   ]
  },
  {
   "cell_type": "code",
   "execution_count": null,
   "metadata": {},
   "outputs": [],
   "source": [
    "# leaf counts in brackets\n",
    "fig = plt.figure(figsize=(14,10))\n",
    "dend = hierarchy.dendrogram(\n",
    "    hierarchy.linkage(X, method='ward'),\n",
    "    truncate_mode='lastp',\n",
    "    p=20,\n",
    "    show_contracted=True) # shows density"
   ]
  },
  {
   "cell_type": "code",
   "execution_count": null,
   "metadata": {},
   "outputs": [],
   "source": [
    "hc = cluster.AgglomerativeClustering(n_clusters=3, affinity='euclidean',\n",
    "                                    linkage='ward')\n",
    "hc.fit_predict(X)"
   ]
  },
  {
   "cell_type": "code",
   "execution_count": null,
   "metadata": {},
   "outputs": [],
   "source": []
  },
  {
   "cell_type": "code",
   "execution_count": null,
   "metadata": {
    "scrolled": true
   },
   "outputs": [],
   "source": [
    "# Plot Actuals & compare to agg and kmeans\n",
    "X.plot(kind='scatter', x='sepal length (cm)', y='sepal width (cm)',\n",
    "          c=target, cmap='plasma')"
   ]
  },
  {
   "cell_type": "code",
   "execution_count": null,
   "metadata": {},
   "outputs": [],
   "source": [
    "# Plot agglomerative clustering\n",
    "pred = hc.fit_predict(X)\n",
    "X.plot(title=f'Agg Cluster', kind='scatter', \n",
    "       x='sepal length (cm)', y='sepal width (cm)',\n",
    "      c=pred, cmap='plasma')"
   ]
  },
  {
   "cell_type": "code",
   "execution_count": null,
   "metadata": {},
   "outputs": [],
   "source": [
    "# vs k-means\n",
    "k2 = cluster.KMeans(n_clusters=3)\n",
    "pred = k2.fit_predict(X)\n",
    "X.plot(title=f'K-means Cluster', kind='scatter', \n",
    "       x='sepal length (cm)', y='sepal width (cm)',\n",
    "      c=pred, cmap='plasma')"
   ]
  },
  {
   "cell_type": "markdown",
   "metadata": {},
   "source": [
    "## Exercise: Hierarchical Clustering \n",
    "* Plot a dendrogram for the seed data. Is there a logical cut point?"
   ]
  },
  {
   "cell_type": "code",
   "execution_count": null,
   "metadata": {},
   "outputs": [],
   "source": []
  },
  {
   "cell_type": "code",
   "execution_count": null,
   "metadata": {},
   "outputs": [],
   "source": []
  },
  {
   "cell_type": "code",
   "execution_count": null,
   "metadata": {},
   "outputs": [],
   "source": []
  },
  {
   "cell_type": "code",
   "execution_count": null,
   "metadata": {},
   "outputs": [],
   "source": []
  }
 ],
 "metadata": {
  "kernelspec": {
   "display_name": "Python 3",
   "language": "python",
   "name": "python3"
  },
  "language_info": {
   "codemirror_mode": {
    "name": "ipython",
    "version": 3
   },
   "file_extension": ".py",
   "mimetype": "text/x-python",
   "name": "python",
   "nbconvert_exporter": "python",
   "pygments_lexer": "ipython3",
   "version": "3.6.4"
  }
 },
 "nbformat": 4,
 "nbformat_minor": 2
}
