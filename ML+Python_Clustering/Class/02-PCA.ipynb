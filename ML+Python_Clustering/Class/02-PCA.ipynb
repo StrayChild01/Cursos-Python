{
 "cells": [
  {
   "cell_type": "markdown",
   "metadata": {},
   "source": [
    "## Principle Component Analysis\n",
    "PCA is used for feature reduction. Also, useful for visualization or getting slow running algorithms a smaller dataset to work on. Considered *unsupervised* as there is no labelled data to train from.\n",
    "\n",
    "Remember to standardize the data before running PCA."
   ]
  },
  {
   "cell_type": "code",
   "execution_count": null,
   "metadata": {},
   "outputs": [],
   "source": [
    "%matplotlib inline\n",
    "import matplotlib.pyplot as plt\n",
    "import pandas as pd\n",
    "from sklearn import (datasets, decomposition, ensemble, \n",
    "                     metrics, model_selection, preprocessing)\n",
    "from yellowbrick.classifier import ConfusionMatrix\n",
    "from yellowbrick.features.pca import PCADecomposition"
   ]
  },
  {
   "cell_type": "code",
   "execution_count": null,
   "metadata": {},
   "outputs": [],
   "source": [
    "iris = datasets.load_iris()\n",
    "target = pd.Series(iris.target)\n",
    "iris_df = pd.DataFrame(iris.data, columns=iris.feature_names)\n",
    "iris_df['target'] = target\n"
   ]
  },
  {
   "cell_type": "code",
   "execution_count": null,
   "metadata": {
    "scrolled": true
   },
   "outputs": [],
   "source": [
    "iris_df"
   ]
  },
  {
   "cell_type": "code",
   "execution_count": null,
   "metadata": {},
   "outputs": [],
   "source": [
    "# 4 columns of data (cm), going to use PCA\n",
    "# with 4 columns of result.\n",
    "# The explained_variance_ratio_ tells us that\n",
    "# by using 1 principal component, we will get\n",
    "# 73% of the variance\n",
    "X = iris_df.iloc[:, :4]\n",
    "X_s = preprocessing.StandardScaler().fit_transform(X)\n",
    "pca4 = decomposition.PCA(n_components=None)\n",
    "res4 = pca4.fit_transform(X_s)\n",
    "pca4.explained_variance_ratio_"
   ]
  },
  {
   "cell_type": "code",
   "execution_count": null,
   "metadata": {},
   "outputs": [],
   "source": [
    "# 1D visualization of PCA\n",
    "# (first 2 columns of iris)\n",
    "xy = dict(zip('xy', iris_df.columns[:2]))\n",
    "X = iris_df.iloc[:,:2]\n",
    "X.plot(kind='scatter', **xy, alpha=.3)\n",
    "pca1 = decomposition.PCA(n_components=1)\n",
    "res = pca1.fit_transform(X)\n",
    "flat = pca1.inverse_transform(res)\n",
    "plt.scatter(flat[:, 0], flat[:, 1], c='g', alpha=.5)"
   ]
  },
  {
   "cell_type": "code",
   "execution_count": null,
   "metadata": {},
   "outputs": [],
   "source": [
    "# explained variance - How much of the variance is explained by \n",
    "# each of the principal components\n",
    "pca1.explained_variance_ratio_"
   ]
  },
  {
   "cell_type": "code",
   "execution_count": null,
   "metadata": {},
   "outputs": [],
   "source": [
    "# With yellowbrick\n",
    "# PCA 2 dimensions reduction from 4\n",
    "X = iris_df.iloc[:,:4]\n",
    "\n",
    "fig, ax = plt.subplots(figsize=(10, 8))\n",
    "y =iris_df.iloc[:, [-1]]\n",
    "colors = ['rgb'[idx] for idx in y.target]\n",
    "viz = PCADecomposition(color=colors)\n",
    "viz.fit_transform(X)\n",
    "viz.poof()"
   ]
  },
  {
   "cell_type": "code",
   "execution_count": null,
   "metadata": {},
   "outputs": [],
   "source": [
    "# Plotting with matplotlib\n",
    "# PCA with 2 Dimensions\n",
    "X_s = preprocessing.StandardScaler().fit_transform(X)\n",
    "pca2 = decomposition.PCA(n_components=2)\n",
    "res2 = pca2.fit_transform(X_s)\n",
    "plt.scatter(res2[:, 0], res2[:, 1], c=colors)"
   ]
  },
  {
   "cell_type": "code",
   "execution_count": null,
   "metadata": {},
   "outputs": [],
   "source": [
    "pca2.explained_variance_ratio_"
   ]
  },
  {
   "cell_type": "code",
   "execution_count": null,
   "metadata": {},
   "outputs": [],
   "source": [
    "# how do features influence components\n",
    "pca2.components_"
   ]
  },
  {
   "cell_type": "code",
   "execution_count": null,
   "metadata": {},
   "outputs": [],
   "source": [
    "# Plot of of how features impact components\n",
    "plt.imshow(pca2.components_.T, cmap='plasma')\n",
    "plt.yticks(range(len(X.columns)), X.columns)\n",
    "plt.colorbar()"
   ]
  },
  {
   "cell_type": "markdown",
   "metadata": {},
   "source": [
    "## Exercise: PCA\n",
    "\n",
    "The (wheat) seed dataset has a feature engineered column, compactness\n",
    "\\begin{align}\n",
    "C=4*pi*area/perimeter^2\n",
    "\\end{align}\n",
    "\n",
    "* Run PCA on this data set to create 2 components. (Ignore variety)\n",
    "* Visualize the results\n",
    "* Plot how the features impact the components\n",
    "\n",
    "The file is at ``../data/seeds_dataset.txt``\n",
    "\n",
    "\n",
    "It has the following fields:\n",
    "\n",
    "1. area A, \n",
    "2. perimeter P, \n",
    "3. compactness C = 4*pi*A/P^2, \n",
    "4. length of kernel, \n",
    "5. width of kernel, \n",
    "6. asymmetry coefficient \n",
    "7. length of kernel groove. \n",
    "8. variety (Kama, Rosa, Canadian)\n",
    "\n",
    "https://archive.ics.uci.edu/ml/datasets/seeds\n",
    "\n",
    "\n"
   ]
  },
  {
   "cell_type": "code",
   "execution_count": null,
   "metadata": {},
   "outputs": [],
   "source": []
  },
  {
   "cell_type": "code",
   "execution_count": null,
   "metadata": {},
   "outputs": [],
   "source": []
  },
  {
   "cell_type": "code",
   "execution_count": null,
   "metadata": {},
   "outputs": [],
   "source": []
  },
  {
   "cell_type": "code",
   "execution_count": null,
   "metadata": {},
   "outputs": [],
   "source": []
  },
  {
   "cell_type": "markdown",
   "metadata": {},
   "source": [
    "## Classification with PCA"
   ]
  },
  {
   "cell_type": "code",
   "execution_count": null,
   "metadata": {},
   "outputs": [],
   "source": [
    "# random forest on all data\n",
    "X = iris_df.iloc[:, :4]\n",
    "y = iris_df.target\n",
    "X_train, X_test, y_train, y_test = model_selection.\\\n",
    "    train_test_split(X, y, test_size=.3, random_state=42)\n",
    "rf1 = ensemble.RandomForestClassifier()\n",
    "rf1.fit(X_train, y_train)\n",
    "rf1.score(X_test, y_test)"
   ]
  },
  {
   "cell_type": "code",
   "execution_count": null,
   "metadata": {},
   "outputs": [],
   "source": [
    "# random forest on PCA data\n",
    "\n",
    "X = iris_df.iloc[:, :4]\n",
    "y = iris_df.target\n",
    "X_s = preprocessing.StandardScaler().fit_transform(X)\n",
    "pca2 = decomposition.PCA(n_components=2)\n",
    "X = pca2.fit_transform(X_s)\n",
    "X_train, X_test, y_train, y_test = model_selection.\\\n",
    "    train_test_split(X, y, test_size=.3, random_state=42)\n",
    "rf2 = ensemble.RandomForestClassifier()\n",
    "rf2.fit(X_train, y_train)\n",
    "rf2.score(X_test, y_test)"
   ]
  },
  {
   "cell_type": "code",
   "execution_count": null,
   "metadata": {},
   "outputs": [],
   "source": [
    "# Yellowbrick version\n",
    "fig, ax = plt.subplots(figsize=(8, 8))\n",
    "mapping = dict(zip([0,1,2], iris.target_names))\n",
    "cm = ConfusionMatrix(rf2, classes=iris.target_names,\n",
    "                    label_encoder=mapping)\n",
    "# don't need to call .fit as rf2 is already \"fit\"\n",
    "#cm.fit(X, y)\n",
    "cm.score(X_test, y_test) \n",
    "cm.poof()"
   ]
  },
  {
   "cell_type": "code",
   "execution_count": null,
   "metadata": {},
   "outputs": [],
   "source": [
    "\n",
    "def fig_with_title(ax, title, figkwargs):\n",
    "    if figkwargs is None:\n",
    "        figkwargs = {}\n",
    "    if not ax:\n",
    "        fig = plt.figure(**figkwargs)\n",
    "        ax = plt.subplot(111)\n",
    "    else:\n",
    "        fig = plt.gcf()\n",
    "    if title:\n",
    "        ax.set_title(title)\n",
    "    return fig, ax\n",
    "\n",
    "\n",
    "def plot_confusion_matrix(clf, X, y, labels, random_state=42, annotate=True,\n",
    "                          cmap=plt.cm.Blues,\n",
    "                          title=\"Confusion Matrix\", ax=None, figkwargs=None):\n",
    "    fig, ax = fig_with_title(ax, title, figkwargs)\n",
    "    y_pred = clf.predict(X)\n",
    "    cm = metrics.confusion_matrix(y, y_pred)\n",
    "    im = ax.imshow(cm, interpolation='nearest', cmap=cmap)\n",
    "    fig.colorbar(im)\n",
    "    ax.set_xticks(range(len(labels)))\n",
    "    ax.set_xticklabels(labels, rotation=45)\n",
    "    ax.set_yticks(range(len(labels)))\n",
    "    ax.set_yticklabels(labels)\n",
    "    ax.set_ylabel('True Label')\n",
    "    ax.set_xlabel('Predicted Label')\n",
    "    if annotate:\n",
    "        for x in range(len(labels)):\n",
    "            for y in range(len(labels)):\n",
    "                plt.annotate(str(cm[x][y]),\n",
    "                             xy=(y,x),\n",
    "                             ha='center',va='center',color='red', fontsize=25, fontstyle='oblique')\n",
    "\n",
    "    return fig, ax"
   ]
  },
  {
   "cell_type": "code",
   "execution_count": null,
   "metadata": {},
   "outputs": [],
   "source": [
    "iris.target_names"
   ]
  },
  {
   "cell_type": "code",
   "execution_count": null,
   "metadata": {},
   "outputs": [],
   "source": [
    "plot_confusion_matrix(rf2, X, y, labels=iris.target_names)"
   ]
  },
  {
   "cell_type": "code",
   "execution_count": null,
   "metadata": {
    "scrolled": false
   },
   "outputs": [],
   "source": [
    "# Plot 2d PCA\n",
    "# Color by random forest prediction\n",
    "# Shape is actual species\n",
    "pred = rf2.predict(X_test)\n",
    "shapes = 'sox'\n",
    "shape = [shapes[i] for i in y_test]\n",
    "fig = plt.figure(figsize=(14,10))\n",
    "for actual in range(3):\n",
    "    mask = y_test==actual\n",
    "    xs = X_test[mask]\n",
    "    color = ['rgb'[m] for m in pred[mask]]\n",
    "    shape = shapes[actual]\n",
    "    plt.scatter(xs[:,0], xs[:,1], c=color, marker=shape)"
   ]
  },
  {
   "cell_type": "markdown",
   "metadata": {},
   "source": [
    "## Exercise: Classification with PCA\n",
    "* Run a classification on PCA'd data\n",
    "* How does it perform versus the raw data?"
   ]
  },
  {
   "cell_type": "code",
   "execution_count": null,
   "metadata": {},
   "outputs": [],
   "source": []
  },
  {
   "cell_type": "code",
   "execution_count": null,
   "metadata": {},
   "outputs": [],
   "source": []
  },
  {
   "cell_type": "code",
   "execution_count": null,
   "metadata": {},
   "outputs": [],
   "source": []
  },
  {
   "cell_type": "code",
   "execution_count": null,
   "metadata": {},
   "outputs": [],
   "source": []
  },
  {
   "cell_type": "code",
   "execution_count": null,
   "metadata": {},
   "outputs": [],
   "source": []
  }
 ],
 "metadata": {
  "kernelspec": {
   "display_name": "Python 3",
   "language": "python",
   "name": "python3"
  },
  "language_info": {
   "codemirror_mode": {
    "name": "ipython",
    "version": 3
   },
   "file_extension": ".py",
   "mimetype": "text/x-python",
   "name": "python",
   "nbconvert_exporter": "python",
   "pygments_lexer": "ipython3",
   "version": "3.6.4"
  }
 },
 "nbformat": 4,
 "nbformat_minor": 2
}
