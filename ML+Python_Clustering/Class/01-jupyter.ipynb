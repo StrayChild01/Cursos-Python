{
 "cells": [
  {
   "cell_type": "markdown",
   "metadata": {},
   "source": [
    "# Intro: Matt & Jupyter\n",
    "\n",
    "Matt Harrison (@\\_\\_mharrison\\_\\_)\n",
    "\n",
    "Matt provide corporate training and consulting through MetaSnake. He has written best-selling books on Pandas (*Learning the Pandas Library*) and Python (*Illustrated Guide to Python 3*).\n",
    "\n",
    "If you have questions on Python syntax, check out https://github.com/mattharrison/Tiny-Python-3.6-Notebook"
   ]
  },
  {
   "cell_type": "code",
   "execution_count": null,
   "metadata": {},
   "outputs": [],
   "source": []
  },
  {
   "cell_type": "markdown",
   "metadata": {},
   "source": [
    "# Jupyter Intro\n",
    "\n",
    "Jupyter notebook is an environment for combining interactive coding and text in a webbrowser. This allows us to easily share code as well as narrative around that code. An example that was popular in the scientific community was [the discovery of gravitational waves.](https://losc.ligo.org/s/events/GW150914/GW150914_tutorial.html)\n",
    "\n",
    "The name Jupyter is a rebranding of an open source project previously known as iPython Notebook. The rebranding was to emphasize that although the backend is written in Python, it supports various *kernals* to run other languages, including Julia (the \"Ju\" portion), Python (\"pyt\"), and R (\"er\"). All popular *data science* programming languages.\n",
    "\n",
    "The architecture of Jupyter includes a server running various kernals. Using a *notebook* we can interact with a kernal. Typically we use a webbrowser to do this, but there are other iterfaces, such as an emacs mode (ein).\n",
    "\n",
    "## Using Jupyter\n",
    "\n",
    "After we create a notebook, we are presented with a page with an empty cell. The cell will have a blue outline, ane the text:\n",
    "\n",
    "    In [ ]: \n",
    "    \n",
    "on the side. The blue outline indicates that we are in *command mode*. There are two modes in Jupyter, command mode and *edit mode*.\n",
    "\n",
    "To enter edit mode simply hit the enter or return key. You will notice that the outline will change to green. In edit mode, with a Python kernel, we can type Python code. Type:\n",
    "\n",
    "    print(\"hello world\")\n",
    "    \n",
    "You will notice that unlike a normal Python REPL, this will note print anything after hitting return again. To *execute* the cell, you need to hold down control and hit enter (``C-Enter``). This will run the code, print the results of the cell and put you back into edit mode.     \n",
    "\n",
    "## Edit Mode\n",
    "\n",
    "To enter *Edit Mode* you need to click on a cell or hit enter when it is surrounded by the blue outline. You will see that it goes green if you are in edit mode. In edit mode you have basic editing functionality. A few keys to know:\n",
    "\n",
    "* Ctr-Enter - Run cell (execute Python code, render Markdown)\n",
    "* ESC - Go back to command mode\n",
    "* TAB - Tab completion\n",
    "* Shift-TAB - Bring up tooltip (ESC to dismiss)\n",
    "\n",
    "\n",
    "## Command Mode\n",
    "\n",
    "*Command Mode* gives to the ability to create, copy, paste, move, and execute cells. A few keys to know:\n",
    "\n",
    "* h - Bring up help (ESC to dismiss)\n",
    "* b - Create cell below\n",
    "* a - Create cell above\n",
    "* c - Copy cell\n",
    "* v - Paste cell below\n",
    "* Enter - Go into Edit Mode\n",
    "* m - Change cell type to Markdown\n",
    "* y - Change cell type to code\n",
    "* ii - Interrupt kernel\n",
    "* oo - Restart kernel\n",
    "\n",
    "## Cell Types\n",
    "\n",
    "* Code\n",
    "* Markdown\n",
    "\n",
    "\n",
    "## Markdown\n",
    "\n",
    "Can make *italicized*, **bold**, and ``monospaced text``:\n",
    "\n",
    "    Can make *italicized*, **bold**, and ``monospaced text``\n",
    "\n",
    "\n",
    "Headers:\n",
    "\n",
    "    # H1\n",
    "    ## H2\n",
    "    ### H3\n",
    " \n",
    "Lists:\n",
    "\n",
    "    * First item\n",
    "    * Second item\n",
    "    \n",
    "Code:\n",
    "\n",
    "    If you indent by four spaces you have code:\n",
    "    \n",
    "        def add(x, y):\n",
    "            return x + yt\n",
    "    \n",
    "## Cell Magic\n",
    "\n",
    "type and run ``%lsmagic`` in a cell.\n",
    "\n",
    "Common magics include:\n",
    "\n",
    "* ``%%time`` - time how long it takes to run cell\n",
    "* ``%%!`` - run shell command\n",
    "* ``%matplotlib inline`` - show matplotlib plots\n",
    "\n",
    "\n",
    "## IPython Help\n",
    "Add ? after function, method, etc for documentation (can also run shift-tab 4 times in notebook). Add ?? after function, method, etc to see the source."
   ]
  },
  {
   "cell_type": "markdown",
   "metadata": {},
   "source": [
    "# Setup"
   ]
  },
  {
   "cell_type": "code",
   "execution_count": 1,
   "metadata": {},
   "outputs": [
    {
     "data": {
      "text/plain": [
       "('0.22.0', '2.1.2', '1.14.0')"
      ]
     },
     "execution_count": 1,
     "metadata": {},
     "output_type": "execute_result"
    }
   ],
   "source": [
    "import pandas as pd\n",
    "import matplotlib\n",
    "import numpy as np\n",
    "\n",
    "pd.__version__, matplotlib.__version__, np.__version__"
   ]
  },
  {
   "cell_type": "code",
   "execution_count": 2,
   "metadata": {},
   "outputs": [
    {
     "data": {
      "text/plain": [
       "'🐍'"
      ]
     },
     "execution_count": 2,
     "metadata": {},
     "output_type": "execute_result"
    }
   ],
   "source": [
    "# test for unicode\n",
    "'\\N{SNAKE}'"
   ]
  },
  {
   "cell_type": "code",
   "execution_count": 3,
   "metadata": {},
   "outputs": [
    {
     "data": {
      "text/plain": [
       "'utf-8'"
      ]
     },
     "execution_count": 3,
     "metadata": {},
     "output_type": "execute_result"
    }
   ],
   "source": [
    "import sys\n",
    "sys.getdefaultencoding() "
   ]
  },
  {
   "cell_type": "code",
   "execution_count": 4,
   "metadata": {},
   "outputs": [
    {
     "data": {
      "text/plain": [
       "'3.6.4 (default, Jan  3 2018, 12:27:11) \\n[GCC 4.2.1 Compatible Apple LLVM 9.0.0 (clang-900.0.39.2)]'"
      ]
     },
     "execution_count": 4,
     "metadata": {},
     "output_type": "execute_result"
    }
   ],
   "source": [
    "sys.version"
   ]
  },
  {
   "cell_type": "code",
   "execution_count": null,
   "metadata": {},
   "outputs": [],
   "source": []
  },
  {
   "cell_type": "code",
   "execution_count": null,
   "metadata": {},
   "outputs": [],
   "source": []
  }
 ],
 "metadata": {
  "kernelspec": {
   "display_name": "Python 3",
   "language": "python",
   "name": "python3"
  },
  "language_info": {
   "codemirror_mode": {
    "name": "ipython",
    "version": 3
   },
   "file_extension": ".py",
   "mimetype": "text/x-python",
   "name": "python",
   "nbconvert_exporter": "python",
   "pygments_lexer": "ipython3",
   "version": "3.6.4"
  }
 },
 "nbformat": 4,
 "nbformat_minor": 2
}
